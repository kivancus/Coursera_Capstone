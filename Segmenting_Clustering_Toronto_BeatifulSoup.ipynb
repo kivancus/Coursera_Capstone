{
    "nbformat_minor": 1, 
    "cells": [
        {
            "source": "This notebook is for segmenting clustering Toronto", 
            "cell_type": "markdown", 
            "metadata": {}
        }, 
        {
            "execution_count": null, 
            "cell_type": "code", 
            "metadata": {}, 
            "outputs": [], 
            "source": "# All libraries needed\n\n!conda install -c conda-forge geopy --yes \nfrom geopy.geocoders import Nominatim # module to convert an address into latitude and longitude values\nimport requests # library to handle requests\nimport pandas as pd # library for data analsysis\nimport numpy as np # library to handle data in a vectorized manner\nimport random # library for random number generation\n\n# libraries for displaying images\nfrom IPython.display import Image \nfrom IPython.core.display import HTML \n    \n# tranforming json file into a pandas dataframe library\nfrom pandas.io.json import json_normalize\n\n!conda install -c conda-forge folium=0.5.0 --yes\nimport folium # plotting library\n\nprint('Folium installed')\nprint('Libraries imported.')"
        }, 
        {
            "source": "This is for Beatifulsoup to be used for importing wikipedia table", 
            "cell_type": "markdown", 
            "metadata": {}
        }, 
        {
            "execution_count": null, 
            "cell_type": "code", 
            "metadata": {}, 
            "outputs": [], 
            "source": "# Beatifulsoup used to import wikipedia file\n\nimport requests\nwebsite_url = requests.get(\"https://en.wikipedia.org/wiki/List_of_postal_codes_of_Canada:_M\").text\nfrom bs4 import BeautifulSoup\nsoup = BeautifulSoup(website_url,\"lxml\")\nprint(soup.prettify())\n\n"
        }, 
        {
            "execution_count": null, 
            "cell_type": "code", 
            "metadata": {
                "scrolled": false
            }, 
            "outputs": [], 
            "source": "first_table = soup.find(\"table\",{\"class\":\"wikitable sortable\"})\nfirst_table"
        }, 
        {
            "execution_count": null, 
            "cell_type": "code", 
            "metadata": {}, 
            "outputs": [], 
            "source": "#creating lists for each of the columns I know to be in my table.\nA=[]\nB=[]\nC=[]\nD=[]\nE=[]\nF=[]\n#utilizing HTML tags for rows <tr> and elements <td> to iterate through each row of data and append data elements to their appropriate lists:\nfor row in first_table.findAll(\"tr\"):\n    cells = row.findAll(\"td\")\n    if len(cells)==3: #Only extract table body not heading\n        A.append(cells[0].find(text=True))\n        B.append(cells[1].find(text=True))\n        C.append(cells[2].find(text=True))\n        "
        }, 
        {
            "execution_count": null, 
            "cell_type": "code", 
            "metadata": {}, 
            "outputs": [], 
            "source": "#pandas to convert list to data frame\n\ndf=pd.DataFrame(A,columns=[\"PostalCode\"])\ndf[\"Borough\"]=B\ndf[\"Neighborhood\"]=C\n"
        }, 
        {
            "execution_count": null, 
            "cell_type": "code", 
            "metadata": {}, 
            "outputs": [], 
            "source": "df.head(300)"
        }, 
        {
            "execution_count": null, 
            "cell_type": "code", 
            "metadata": {}, 
            "outputs": [], 
            "source": "df_pure= df[df.Borough != 'Not assigned']\n\ndf_pure.loc[df['Neighborhood']=='Not assigned', 'Neighborhood'] = df['Borough']\n\ndf_pure.shape"
        }, 
        {
            "execution_count": null, 
            "cell_type": "code", 
            "metadata": {}, 
            "outputs": [], 
            "source": "df_pure.shape\ndf_pure.columns"
        }, 
        {
            "execution_count": null, 
            "cell_type": "code", 
            "metadata": {}, 
            "outputs": [], 
            "source": "# df_final=df_pure.groupby([\"PostalCode\", \"Borough\"], as_index=False).agg(lambda x: tuple(x.tolist()))\n\ndf_final=df_pure.groupby([\"PostalCode\", \"Borough\"], as_index=False).agg(lambda col: ','.join(col))\n\ndf_final.head()\n"
        }, 
        {
            "execution_count": null, 
            "cell_type": "code", 
            "metadata": {}, 
            "outputs": [], 
            "source": "df_final=df_final.replace('\\n','',regex=True)\ndf_final.head(100)"
        }, 
        {
            "execution_count": 65, 
            "cell_type": "code", 
            "metadata": {
                "scrolled": true
            }, 
            "outputs": [
                {
                    "execution_count": 65, 
                    "metadata": {}, 
                    "data": {
                        "text/plain": "(103, 3)"
                    }, 
                    "output_type": "execute_result"
                }
            ], 
            "source": "df_final.shape"
        }, 
        {
            "execution_count": null, 
            "cell_type": "code", 
            "metadata": {}, 
            "outputs": [], 
            "source": ""
        }
    ], 
    "metadata": {
        "kernelspec": {
            "display_name": "Python 3.5", 
            "name": "python3", 
            "language": "python"
        }, 
        "language_info": {
            "mimetype": "text/x-python", 
            "nbconvert_exporter": "python", 
            "version": "3.5.5", 
            "name": "python", 
            "file_extension": ".py", 
            "pygments_lexer": "ipython3", 
            "codemirror_mode": {
                "version": 3, 
                "name": "ipython"
            }
        }
    }, 
    "nbformat": 4
}